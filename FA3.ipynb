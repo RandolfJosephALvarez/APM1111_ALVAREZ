{
 "cells": [
  {
   "cell_type": "code",
   "execution_count": 1,
   "id": "a8545dae-b790-4253-a1c0-cad631917c49",
   "metadata": {},
   "outputs": [
    {
     "data": {
      "text/plain": [
       "{'Mean': 59.166666666666664,\n",
       " 'Median': 57.0,\n",
       " 'Mode': 28,\n",
       " 'Standard Deviation': 22.210981149328347,\n",
       " 'Variance': 493.3276836158192,\n",
       " 'Minimum': 25,\n",
       " 'Maximum': 99,\n",
       " 'Q1': 37.75,\n",
       " 'Q2 (Median)': 57.0,\n",
       " 'Q3': 76.0,\n",
       " 'P95': 94.1,\n",
       " 'D9 (90th Percentile)': 89.2,\n",
       " 'Skewness': 0.16296584598629993,\n",
       " 'Standard Error of Skewness': 0.3086939139148819,\n",
       " 'Kurtosis': -1.241208310597579,\n",
       " 'Standard Error of Kurtosis': 0.6084920100891885}"
      ]
     },
     "execution_count": 1,
     "metadata": {},
     "output_type": "execute_result"
    }
   ],
   "source": [
    "import numpy as np\n",
    "import scipy.stats as stats\n",
    "\n",
    "data = np.array([88, 45, 53, 86, 33, 86, 85, 30, 89, 53, 41, 96, 56, 38, 62,\n",
    "                 71, 51, 86, 68, 29, 28, 47, 33, 37, 25, 36, 33, 94, 73, 46,\n",
    "                 42, 34, 79, 72, 88, 99, 82, 62, 57, 42, 28, 55, 67, 62, 60,\n",
    "                 96, 61, 57, 75, 93, 34, 75, 53, 32, 28, 73, 51, 69, 91, 35])\n",
    "\n",
    "# Measures of central tendency\n",
    "mean = np.mean(data)\n",
    "median = np.median(data)\n",
    "mode = stats.mode(data, keepdims=False)[0]\n",
    "\n",
    "# Measures of spread\n",
    "std_dev = np.std(data, ddof=1)\n",
    "variance = np.var(data, ddof=1)\n",
    "minimum = np.min(data)\n",
    "maximum = np.max(data)\n",
    "q1 = np.percentile(data, 25)\n",
    "q2 = np.percentile(data, 50)  # same as median\n",
    "q3 = np.percentile(data, 75)\n",
    "p95 = np.percentile(data, 95)\n",
    "d9 = np.percentile(data, 90)\n",
    "\n",
    "# Skewness and kurtosis\n",
    "skewness = stats.skew(data)\n",
    "kurtosis = stats.kurtosis(data)\n",
    "\n",
    "# Standard errors of skewness and kurtosis\n",
    "n = len(data)\n",
    "std_error_skewness = np.sqrt((6 * n * (n - 1)) / ((n - 2) * (n + 1) * (n + 3)))\n",
    "std_error_kurtosis = np.sqrt((24 * n * (n - 1)**2) / ((n - 3) * (n - 2) * (n + 3) * (n + 5)))\n",
    "\n",
    "#Print\n",
    "descriptive_stats = {\n",
    "    'Mean': mean,\n",
    "    'Median': median,\n",
    "    'Mode': mode,\n",
    "    'Standard Deviation': std_dev,\n",
    "    'Variance': variance,\n",
    "    'Minimum': minimum,\n",
    "    'Maximum': maximum,\n",
    "    'Q1': q1,\n",
    "    'Q2 (Median)': q2,\n",
    "    'Q3': q3,\n",
    "    'P95': p95,\n",
    "    'D9 (90th Percentile)': d9,\n",
    "    'Skewness': skewness,\n",
    "    'Standard Error of Skewness': std_error_skewness,\n",
    "    'Kurtosis': kurtosis,\n",
    "    'Standard Error of Kurtosis': std_error_kurtosis\n",
    "}\n",
    "\n",
    "descriptive_stats\n"
   ]
  },
  {
   "cell_type": "code",
   "execution_count": null,
   "id": "3da3fb99-fca7-4cc9-8216-7af7a9aa9138",
   "metadata": {},
   "outputs": [],
   "source": []
  }
 ],
 "metadata": {
  "kernelspec": {
   "display_name": "Python 3 (ipykernel)",
   "language": "python",
   "name": "python3"
  },
  "language_info": {
   "codemirror_mode": {
    "name": "ipython",
    "version": 3
   },
   "file_extension": ".py",
   "mimetype": "text/x-python",
   "name": "python",
   "nbconvert_exporter": "python",
   "pygments_lexer": "ipython3",
   "version": "3.12.4"
  }
 },
 "nbformat": 4,
 "nbformat_minor": 5
}
