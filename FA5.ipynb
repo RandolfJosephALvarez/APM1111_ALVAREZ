{
 "cells": [
  {
   "cell_type": "code",
   "execution_count": 3,
   "id": "45ae0d90-a197-4b4b-9a3f-acd197d7a78c",
   "metadata": {},
   "outputs": [
    {
     "data": {
      "image/png": "[encoded data removed]",
      "text/plain": [
       "<Figure size 640x480 with 1 Axes>"
      ]
     },
     "metadata": {},
     "output_type": "display_data"
    },
    {
     "data": {
      "text/plain": [
       "(12.0, 12.0, 3.0, 3.0)"
      ]
     },
     "execution_count": 3,
     "metadata": {},
     "output_type": "execute_result"
    }
   ],
   "source": [
    "import itertools\n",
    "import numpy as np\n",
    "import matplotlib.pyplot as plt\n",
    "\n",
    "# Given values and probabilities (from problem 8.17)\n",
    "values = [9, 12, 15]\n",
    "probabilities = [1/3, 1/3, 1/3]\n",
    "\n",
    "# Possible samples of size 2 with replacement\n",
    "samples = list(itertools.product(values, repeat=2))\n",
    "\n",
    "# Sample means\n",
    "sample_means = [np.mean(sample) for sample in samples]\n",
    "\n",
    "# Mean and variance of the sampling distribution\n",
    "mean_of_sample_means = np.mean(sample_means)\n",
    "variance_of_sample_means = np.var(sample_means)\n",
    "\n",
    "# Population mean and variance\n",
    "population_mean = np.dot(values, probabilities)\n",
    "population_variance = np.dot((np.array(values) - population_mean)**2, probabilities)\n",
    "\n",
    "# Plot the sampling distribution of the mean\n",
    "plt.hist(sample_means, bins=5, density=True, alpha=0.6, color='g', edgecolor='black')\n",
    "plt.title('Sampling Distribution of the Mean (n=2)')\n",
    "plt.xlabel('Sample Mean')\n",
    "plt.ylabel('Frequency')\n",
    "plt.grid(True)\n",
    "plt.show()\n",
    "\n",
    "# Theoretical variance of sample means\n",
    "theoretical_variance_sample_means = population_variance / 2\n",
    "\n",
    "# Results\n",
    "(mean_of_sample_means, population_mean, variance_of_sample_means, theoretical_variance_sample_means)"
   ]
  },
  {
   "cell_type": "markdown",
   "id": "d275ddfa-711b-4e6b-b03e-20e3e808452d",
   "metadata": {},
   "source": [
    "Mean of sample means: 12\n",
    "Population mean: 12\n",
    "Variance of sample means:3\n",
    "Theoretical variance of sample means:3"
   ]
  },
  {
   "cell_type": "code",
   "execution_count": 5,
   "id": "dc96de59-d1b5-41f9-b6a3-e87f9fe2c60d",
   "metadata": {},
   "outputs": [
    {
     "data": {
      "text/plain": [
       "(9.0, 4.47213595499958, 9.0, 3.1622776601683795, 3.162277660168379)"
      ]
     },
     "execution_count": 5,
     "metadata": {},
     "output_type": "execute_result"
    }
   ],
   "source": [
    "population = [3, 7, 11, 15]\n",
    "\n",
    "# Population mean\n",
    "population_mean = np.mean(population)\n",
    "\n",
    "# Population standard deviation (N not N-1, as we're working with population)\n",
    "population_std = np.std(population, ddof=0)\n",
    "\n",
    "# Generate all possible samples of size 2 with replacement\n",
    "samples = list(itertools.product(population, repeat=2))\n",
    "\n",
    "# Compute sample means for all possible samples\n",
    "sample_means = [np.mean(sample) for sample in samples]\n",
    "\n",
    "# Mean of the sampling distribution of means\n",
    "mean_of_sampling_dist_means = np.mean(sample_means)\n",
    "\n",
    "# Standard deviation of the sampling distribution of means\n",
    "std_of_sampling_dist_means = np.std(sample_means, ddof=0)\n",
    "\n",
    "# Theoretical standard deviation of the sampling distribution (standard error)\n",
    "theoretical_std_sampling = population_std / np.sqrt(2)\n",
    "\n",
    "# Results\n",
    "(population_mean, population_std, mean_of_sampling_dist_means, std_of_sampling_dist_means, theoretical_std_sampling)"
   ]
  },
  {
   "cell_type": "markdown",
   "id": "492878d4-1c83-46f0-92dc-1cc4b925c4fd",
   "metadata": {},
   "source": [
    "Population mean: 9\n",
    "Population std: 4.47\n",
    "Mean of sampling distribution of means:9\n",
    "Standard deviation of the sampling distribution of means:3.16\n",
    "Theoretical standard deviation of the sampling distribution of means:3.16"
   ]
  },
  {
   "cell_type": "code",
   "execution_count": 7,
   "id": "54072e1b-130f-4fd8-9c50-a003edc954b4",
   "metadata": {},
   "outputs": [
    {
     "data": {
      "text/plain": [
       "(0.002338867490523633, 0.9522851197626487, 0.1289495176461697)"
      ]
     },
     "execution_count": 7,
     "metadata": {},
     "output_type": "execute_result"
    }
   ],
   "source": [
    "from scipy.stats import norm\n",
    "\n",
    "# Parameters for normal approximation\n",
    "n = 200\n",
    "p = 0.5\n",
    "mu = n * p\n",
    "sigma = np.sqrt(n * p * (1 - p))\n",
    "\n",
    "# Part (a): P(X < 80) for less than 40% boys\n",
    "z_a = (80 - mu) / sigma\n",
    "prob_a = norm.cdf(z_a)\n",
    "\n",
    "# Part (b): P(86 < X < 114) for between 43% and 57% girls (equivalently boys)\n",
    "z_b1 = (86 - mu) / sigma\n",
    "z_b2 = (114 - mu) / sigma\n",
    "prob_b = norm.cdf(z_b2) - norm.cdf(z_b1)\n",
    "\n",
    "# Part (c): P(X > 108) for more than 54% boys\n",
    "z_c = (108 - mu) / sigma\n",
    "prob_c = 1 - norm.cdf(z_c)\n",
    "\n",
    "# Results\n",
    "(prob_a, prob_b, prob_c)"
   ]
  },
  {
   "cell_type": "markdown",
   "id": "0859da3b-325e-41df-bf1f-0feefe2f2e61",
   "metadata": {},
   "source": [
    "The probability that less than 40% of the next 200 children will be boys: 0.23%\n",
    "The probability that between 43% and 57% will be girls: 95.23%\n",
    "The probability that more than 54% will be boys: 12.89%"
   ]
  },
  {
   "cell_type": "code",
   "execution_count": 25,
   "id": "a0f73bcd-c0d5-4154-a1dd-de26e81c4cd3",
   "metadata": {},
   "outputs": [
    {
     "name": "stdout",
     "output_type": "stream",
     "text": [
      "Population mean: 12.0\n",
      "Variance: 10.800000000000011\n",
      "First 10 Samples of Size 2 (with Replacement), Their Means, and Probabilities:\n"
     ]
    },
    {
     "data": {
      "text/plain": [
       "[((6, 6), 6.0, 0.010000000000000002),\n",
       " ((6, 9), 7.5, 0.020000000000000004),\n",
       " ((6, 12), 9.0, 0.04000000000000001),\n",
       " ((6, 15), 10.5, 0.020000000000000004),\n",
       " ((6, 18), 12.0, 0.010000000000000002),\n",
       " ((9, 6), 7.5, 0.020000000000000004),\n",
       " ((9, 9), 9.0, 0.04000000000000001),\n",
       " ((9, 12), 10.5, 0.08000000000000002),\n",
       " ((9, 15), 12.0, 0.04000000000000001),\n",
       " ((9, 18), 13.5, 0.020000000000000004),\n",
       " ((12, 6), 9.0, 0.04000000000000001),\n",
       " ((12, 9), 10.5, 0.08000000000000002),\n",
       " ((12, 12), 12.0, 0.16000000000000003),\n",
       " ((12, 15), 13.5, 0.08000000000000002),\n",
       " ((12, 18), 15.0, 0.04000000000000001),\n",
       " ((15, 6), 10.5, 0.020000000000000004),\n",
       " ((15, 9), 12.0, 0.04000000000000001),\n",
       " ((15, 12), 13.5, 0.08000000000000002),\n",
       " ((15, 15), 15.0, 0.04000000000000001),\n",
       " ((15, 18), 16.5, 0.020000000000000004),\n",
       " ((18, 6), 12.0, 0.010000000000000002),\n",
       " ((18, 9), 13.5, 0.020000000000000004),\n",
       " ((18, 12), 15.0, 0.04000000000000001),\n",
       " ((18, 15), 16.5, 0.020000000000000004),\n",
       " ((18, 18), 18.0, 0.010000000000000002)]"
      ]
     },
     "execution_count": 25,
     "metadata": {},
     "output_type": "execute_result"
    }
   ],
   "source": [
    "import itertools\n",
    "import numpy as np\n",
    "\n",
    "# Values of x and corresponding probabilities\n",
    "x_values = [6, 9, 12, 15, 18]\n",
    "p_x = [0.1, 0.2, 0.4, 0.2, 0.1]\n",
    "\n",
    "# Calculate population mean\n",
    "mu = sum(x * p for x, p in zip(x_values, p_x))\n",
    "\n",
    "# Calculate population variance\n",
    "E_X2 = sum((x**2) * p for x, p in zip(x_values, p_x))\n",
    "variance = E_X2 - mu**2\n",
    "\n",
    "# Generate all possible samples of size 2 (with replacement)\n",
    "samples = list(itertools.product(x_values, repeat=2))\n",
    "\n",
    "# Calculate the sample means\n",
    "sample_means = [(x1 + x2) / 2 for x1, x2 in samples]\n",
    "\n",
    "# Calculate the probability of each sample\n",
    "sample_probabilities = [p_x[x_values.index(x1)] * p_x[x_values.index(x2)] for x1, x2 in samples]\n",
    "\n",
    "sample_means_probabilities = list(zip(samples, sample_means, sample_probabilities))\n",
    "\n",
    "print ('Population mean:',mu)\n",
    "print ('Variance:',variance)\n",
    "\n",
    "print ('First 10 Samples of Size 2 (with Replacement), Their Means, and Probabilities:')\n",
    "\n",
    "sample_means_probabilities[:25]  \n"
   ]
  }
 ],
 "metadata": {
  "kernelspec": {
   "display_name": "Python 3 (ipykernel)",
   "language": "python",
   "name": "python3"
  },
  "language_info": {
   "codemirror_mode": {
    "name": "ipython",
    "version": 3
   },
   "file_extension": ".py",
   "mimetype": "text/x-python",
   "name": "python",
   "nbconvert_exporter": "python",
   "pygments_lexer": "ipython3",
   "version": "3.12.4"
  }
 },
 "nbformat": 4,
 "nbformat_minor": 5
}
