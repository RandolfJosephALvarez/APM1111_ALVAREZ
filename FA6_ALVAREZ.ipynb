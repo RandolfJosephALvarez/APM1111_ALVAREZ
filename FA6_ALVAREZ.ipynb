{
 "cells": [
  {
   "cell_type": "markdown",
   "id": "e379bcab",
   "metadata": {},
   "source": [
    "# Item # 5"
   ]
  },
  {
   "cell_type": "code",
   "execution_count": 2,
   "id": "fdf90622",
   "metadata": {},
   "outputs": [
    {
     "name": "stdout",
     "output_type": "stream",
     "text": [
      "Mean (μ): 12.000000000000002\n",
      "Variance (σ²): 10.8\n",
      "\n",
      "   Sample Mean             Probability\n",
      "0          6.0  [0.010000000000000002]\n",
      "1          7.5   [0.04000000000000001]\n",
      "2          9.0   [0.12000000000000002]\n",
      "3         10.5   [0.20000000000000007]\n",
      "4         12.0   [0.26000000000000006]\n",
      "5         13.5   [0.20000000000000007]\n",
      "6         15.0   [0.12000000000000002]\n",
      "7         16.5   [0.04000000000000001]\n",
      "8         18.0  [0.010000000000000002]\n"
     ]
    }
   ],
   "source": [
    "import numpy as np\n",
    "import itertools\n",
    "import pandas as pd\n",
    "\n",
    "#given data\n",
    "x = np.array([6, 9, 12, 15, 18])\n",
    "p_x = np.array([0.1, 0.2, 0.4, 0.2, 0.1])\n",
    "\n",
    "#  mean (μ)\n",
    "mu = np.sum(x * p_x)\n",
    "\n",
    "#  variance (σ²)\n",
    "var = np.sum(((x - mu) ** 2) * p_x)\n",
    "\n",
    "# generating sample sizes\n",
    "samples = list(itertools.product(x, repeat=2))\n",
    "\n",
    "# means and probabilities for each sample\n",
    "sample_means = []\n",
    "probabilities = []\n",
    "\n",
    "for sample in samples:\n",
    "    mean = np.mean(sample)\n",
    "    prob = p_x[x == sample[0]] * p_x[x == sample[1]]\n",
    "    sample_means.append(mean)\n",
    "    probabilities.append(prob)\n",
    "\n",
    "results = pd.DataFrame({\n",
    "    'Sample Mean': sample_means,\n",
    "    'Probability': probabilities\n",
    "})\n",
    "\n",
    "# probabilities for the same sample means\n",
    "aggregated_results = results.groupby('Sample Mean').sum().reset_index()\n",
    "\n",
    "# Display the results\n",
    "print(f\"Mean (μ): {mu}\")\n",
    "print(f\"Variance (σ²): {var}\\n\")\n",
    "print(aggregated_results)"
   ]
  },
  {
   "cell_type": "markdown",
   "id": "e15c9d52",
   "metadata": {},
   "source": [
    "# Item#4"
   ]
  },
  {
   "cell_type": "code",
   "execution_count": 3,
   "id": "9c877959",
   "metadata": {},
   "outputs": [
    {
     "name": "stdout",
     "output_type": "stream",
     "text": [
      "Mean of the sum of the masses: 118.79 g\n",
      "Standard deviation of the sum of the masses: 0.74 g\n"
     ]
    }
   ],
   "source": [
    "# given data\n",
    "masses = np.array([20.48, 35.97, 62.34])\n",
    "std_devs = np.array([0.21, 0.46, 0.54])\n",
    "\n",
    "# mean\n",
    "mean_sum = np.sum(masses)\n",
    "\n",
    "# standard dev\n",
    "std_dev_sum = np.sqrt(np.sum(std_devs**2))\n",
    "\n",
    "print(f\"Mean of the sum of the masses: {mean_sum:.2f} g\")\n",
    "print(f\"Standard deviation of the sum of the masses: {std_dev_sum:.2f} g\")\n"
   ]
  },
  {
   "cell_type": "markdown",
   "id": "fed8e658",
   "metadata": {},
   "source": [
    "# Item#1"
   ]
  },
  {
   "cell_type": "code",
   "execution_count": 4,
   "id": "8bbf9142",
   "metadata": {},
   "outputs": [
    {
     "name": "stdout",
     "output_type": "stream",
     "text": [
      "Total Number of Students: 120\n",
      "Q1 (25th Percentile) falls in the grade range: 80-89\n",
      "Q2 (50th Percentile / Median) falls in the grade range: 70-79\n",
      "Q3 (75th Percentile) falls in the grade range: 60-69\n"
     ]
    }
   ],
   "source": [
    "data = {\n",
    "    'Grade Range': ['90-100', '80-89', '70-79', '60-69', '50-59', '40-49', '30-39'],\n",
    "    'Number of Students': [9, 32, 43, 21, 11, 3, 1]\n",
    "}\n",
    "\n",
    "# conversion to dataframe\n",
    "df = pd.DataFrame(data)\n",
    "\n",
    "# cumulative frequency\n",
    "df['Cumulative Frequency'] = df['Number of Students'].cumsum()\n",
    "\n",
    "students_total = df['Number of Students'].sum()\n",
    "\n",
    "# defining the quartile positions\n",
    "Q1_position = students_total * 0.25\n",
    "Q2_position = students_total * 0.50\n",
    "Q3_position = students_total * 0.75\n",
    "\n",
    "# find the quartiles based on cumulative frequency\n",
    "def find_quartile_position(position):\n",
    "    for index, row in df.iterrows():\n",
    "        if row['Cumulative Frequency'] >= position:\n",
    "            return row['Grade Range']\n",
    "\n",
    "Q1 = find_quartile_position(Q1_position)\n",
    "Q2 = find_quartile_position(Q2_position)\n",
    "Q3 = find_quartile_position(Q3_position)\n",
    "\n",
    "print(f\"Total Number of Students: {total_students}\")\n",
    "print(f\"Q1 (25th Percentile) falls in the grade range: {Q1}\")\n",
    "print(f\"Q2 (50th Percentile / Median) falls in the grade range: {Q2}\")\n",
    "print(f\"Q3 (75th Percentile) falls in the grade range: {Q3}\")"
   ]
  },
  {
   "cell_type": "markdown",
   "id": "4232ad60",
   "metadata": {},
   "source": [
    "# Item#3"
   ]
  },
  {
   "cell_type": "code",
   "execution_count": 5,
   "id": "9d0de025",
   "metadata": {},
   "outputs": [
    {
     "name": "stdout",
     "output_type": "stream",
     "text": [
      "Original Mean: 5.60\n",
      "Original Standard Deviation: 2.06\n",
      "Z-scores: [ 0.19425717 -1.74831455  1.16554303  0.6799001  -0.29138576]\n",
      "Mean of Z-scores: 0.00\n",
      "Standard Deviation of Z-scores: 1.00\n"
     ]
    }
   ],
   "source": [
    "data = np.array([6, 2, 8, 7, 5])\n",
    "\n",
    "# mean and standard deviation\n",
    "mean = np.mean(data)\n",
    "std_dev = np.std(data)\n",
    "\n",
    "#  z-scores\n",
    "z_scores = (data - mean) / std_dev\n",
    "\n",
    "#  mean and standard deviation of z-scores\n",
    "mean_z = np.mean(z_scores)\n",
    "std_dev_z = np.std(z_scores)\n",
    "\n",
    "print(f\"Original Mean: {mean:.2f}\")\n",
    "print(f\"Original Standard Deviation: {std_dev:.2f}\")\n",
    "print(f\"Z-scores: {z_scores}\")\n",
    "print(f\"Mean of Z-scores: {mean_z:.2f}\")\n",
    "print(f\"Standard Deviation of Z-scores: {std_dev_z:.2f}\")\n"
   ]
  },
  {
   "cell_type": "markdown",
   "id": "d5beef0e",
   "metadata": {},
   "source": [
    "# Item#2"
   ]
  },
  {
   "cell_type": "code",
   "execution_count": 6,
   "id": "4106e405",
   "metadata": {},
   "outputs": [
    {
     "name": "stdout",
     "output_type": "stream",
     "text": [
      "Absolute Dispersion:\n",
      "Statistics: 8.0\n",
      "Algebra: 7.6\n",
      "\n",
      "Relative Dispersion (Coefficient of Variation):\n",
      "Statistics: 10.26%\n",
      "Algebra: 10.41%\n",
      "\n",
      "Greater Absolute Dispersion: Statistics\n",
      "Greater Relative Dispersion: Algebra\n"
     ]
    }
   ],
   "source": [
    "statistics_mean = 78\n",
    "statistics_std_dev = 8.0\n",
    "algebra_mean = 73\n",
    "algebra_std_dev = 7.6\n",
    "\n",
    "# absolute dispersion \n",
    "absolute_dispersion_stats = statistics_std_dev\n",
    "absolute_dispersion_algebra = algebra_std_dev\n",
    "\n",
    "#  relative dispersion \n",
    "cv_statistics = (absolute_dispersion_stats / statistics_mean) * 100\n",
    "cv_algebra = (absolute_dispersion_algebra / algebra_mean) * 100\n",
    "\n",
    "# determining which subject has greater absolute and relative dispersion\n",
    "greater_absolute_dispersion = \"Statistics\" if absolute_dispersion_stats > absolute_dispersion_algebra else \"Algebra\"\n",
    "greater_relative_dispersion = \"Algebra\" if cv_algebra > cv_statistics else \"Statistics\"\n",
    "\n",
    "print(f\"Absolute Dispersion:\")\n",
    "print(f\"Statistics: {absolute_dispersion_stats}\")\n",
    "print(f\"Algebra: {absolute_dispersion_algebra}\\n\")\n",
    "print(f\"Relative Dispersion (Coefficient of Variation):\")\n",
    "print(f\"Statistics: {cv_statistics:.2f}%\")\n",
    "print(f\"Algebra: {cv_algebra:.2f}%\\n\")\n",
    "print(f\"Greater Absolute Dispersion: {greater_absolute_dispersion}\")\n",
    "print(f\"Greater Relative Dispersion: {greater_relative_dispersion}\")"
   ]
  },
  {
   "cell_type": "code",
   "execution_count": null,
   "id": "e411ea48",
   "metadata": {},
   "outputs": [],
   "source": []
  }
 ],
 "metadata": {
  "kernelspec": {
   "display_name": "Python 3 (ipykernel)",
   "language": "python",
   "name": "python3"
  },
  "language_info": {
   "codemirror_mode": {
    "name": "ipython",
    "version": 3
   },
   "file_extension": ".py",
   "mimetype": "text/x-python",
   "name": "python",
   "nbconvert_exporter": "python",
   "pygments_lexer": "ipython3",
   "version": "3.9.13"
  }
 },
 "nbformat": 4,
 "nbformat_minor": 5
}
